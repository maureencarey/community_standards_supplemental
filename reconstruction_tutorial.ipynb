{
 "cells": [
  {
   "cell_type": "markdown",
   "metadata": {},
   "source": [
    "# Metabolic Network Reconstruction Tutorial"
   ]
  },
  {
   "cell_type": "markdown",
   "metadata": {},
   "source": [
    "In the following tutorial you will learn how to manipulate a metabolic model with [cobrapy](https://cobrapy.readthedocs.io/en/latest/) such that you can conform with the recommendations of **Box 2** [in the manuscript on community standards](https://doi.org/10.1101/700112)."
   ]
  },
  {
   "cell_type": "markdown",
   "metadata": {},
   "source": [
    "From the caption of **Box 2** itself:\n",
    "\n",
    "> Proposed minimum standardized content for a metabolic network reconstruction. We propose that modelers use this list as a guide to help standardize accessibility, content, and quality; however, more comprehensive documentation and more interpretablee and accessible information can only improve the usability and biological relevance of the shared reconstruction."
   ]
  },
  {
   "cell_type": "markdown",
   "metadata": {},
   "source": [
    "Throughout this tutorial we will look at content from the example reconstruction `iPfal19.xml` for _Plasmodium falciparum_ 3D7 provided with the publication, as well as building a minimal example model from scratch. Each section will show:\n",
    "\n",
    "1. Python code needed for the inspection and manipulation of a metabolic reconstruction.\n",
    "2. Excerpts from the resulting [SBML](http://sbml.org/) that is automatically generated."
   ]
  },
  {
   "cell_type": "code",
   "execution_count": 1,
   "metadata": {},
   "outputs": [],
   "source": [
    "import logging"
   ]
  },
  {
   "cell_type": "code",
   "execution_count": 2,
   "metadata": {},
   "outputs": [],
   "source": [
    "logging.basicConfig(level=\"INFO\")"
   ]
  },
  {
   "cell_type": "code",
   "execution_count": 3,
   "metadata": {},
   "outputs": [],
   "source": [
    "import cobra\n",
    "from cobra.io import read_sbml_model"
   ]
  },
  {
   "cell_type": "markdown",
   "metadata": {},
   "source": [
    "The tutorial was created with the following software versions."
   ]
  },
  {
   "cell_type": "code",
   "execution_count": 4,
   "metadata": {},
   "outputs": [
    {
     "name": "stdout",
     "output_type": "stream",
     "text": [
      "\n",
      "System Information\n",
      "==================\n",
      "OS         Darwin\n",
      "OS-release 17.3.0\n",
      "Python      3.7.3\n",
      "\n",
      "Package Versions\n",
      "================\n",
      "cobra                       0.16.0\n",
      "depinfo                      1.5.1\n",
      "future                      0.17.1\n",
      "numpy                       1.17.0\n",
      "optlang                      1.4.4\n",
      "pandas                      0.25.0\n",
      "pip                         19.2.2\n",
      "python-libsbml-experimental 5.18.0\n",
      "ruamel.yaml                 0.16.2\n",
      "setuptools                  41.1.0\n",
      "six                         1.12.0\n",
      "swiglpk                     4.65.0\n",
      "wheel                       0.33.4\n"
     ]
    }
   ],
   "source": [
    "cobra.show_versions()"
   ]
  },
  {
   "cell_type": "markdown",
   "metadata": {},
   "source": [
    "## Model"
   ]
  },
  {
   "cell_type": "code",
   "execution_count": 5,
   "metadata": {},
   "outputs": [],
   "source": [
    "p_falciparum = read_sbml_model(\"iPfal19.xml\") # resolve inchi warnings"
   ]
  },
  {
   "cell_type": "code",
   "execution_count": 6,
   "metadata": {},
   "outputs": [],
   "source": [
    "minimal_model = cobra.Model(\"minimal\", name=\"Minimal Demo Model\")"
   ]
  },
  {
   "cell_type": "markdown",
   "metadata": {},
   "source": [
    "Simply saving an empty model with an identifier and name to SBML will generate the following XML element:\n",
    "\n",
    "```xml\n",
    "<model metaid=\"meta_minimal\" id=\"minimal\" name=\"Minimal Demo Model\" fbc:strict=\"true\">\n",
    "```"
   ]
  },
  {
   "cell_type": "markdown",
   "metadata": {},
   "source": [
    "Please be aware that, by convention, genome-scale metabolic network reconstructions are expected to have at least two compartments: the cytosol and extracellular space. At the moment, support for compartments in cobrapy is a bit weak. You can only create them by referencing them from a metabolite or by reading an existing SBML model. Better support for compartments [is in preparation](https://github.com/opencobra/cobrapy/pull/725)."
   ]
  },
  {
   "cell_type": "markdown",
   "metadata": {},
   "source": [
    "In their simplest form, compartments are defined as follows in SBML:\n",
    "\n",
    "```xml\n",
    "<compartment id=\"c\" name=\"cytosol\" constant=\"true\"/>\n",
    "```"
   ]
  },
  {
   "cell_type": "markdown",
   "metadata": {},
   "source": [
    "The information contained in the README file is summarized in the model description:"
   ]
  },
  {
   "cell_type": "code",
   "execution_count": 7,
   "metadata": {},
   "outputs": [
    {
     "data": {
      "text/plain": [
       "'This model is the third iteration of the asexual blood-stage Plasmodium falciparum 3D7 genome-scale metabolic network reconstruction. The original reconstruction was generated using a custom pipeline by Plata et al (DOI: 10.1038/msb.2010.60) from P. falciparum Dd2 genome and curated to P. falciparum 3D7 and Dd2 function. Multiple rounds of curation were conducted (DOI: 10.1186/s12864-017-3905-1,10.1186/s12859-019-2756-y, and unpublished by Maureen Carey). Gene IDs can be mapped to sequences on https://plasmodb.org/ and reaction and metabolite nomenclature maps to data on http://bigg.ucsd.edu/.'"
      ]
     },
     "execution_count": 7,
     "metadata": {},
     "output_type": "execute_result"
    }
   ],
   "source": [
    "p_falciparum.annotation[\"description\"]"
   ]
  },
  {
   "cell_type": "markdown",
   "metadata": {},
   "source": [
    "Every object including a model, and its subcomponents (genes, metabolites, and reactions) have shared fields that can be very useful: 'notes' and 'annotation'. \n",
    "\n",
    "The 'notes' field is intended for SBML notes, not human-readable information. We recommend putting 'notes to self' or other human readable information in the annotation field, and specifically the 'description' subfield.\n",
    "\n",
    "The 'annotation' field includes information about the object to map to other databases or relevant information. We'll discuss this field more throughout this tutorial."
   ]
  },
  {
   "cell_type": "markdown",
   "metadata": {},
   "source": [
    "### Recognized naming convention"
   ]
  },
  {
   "cell_type": "markdown",
   "metadata": {},
   "source": [
    "The model name, id (with version number), and other identifying features are also attributes of the model. We recommend naming the model to communicate both the species represented and curation version."
   ]
  },
  {
   "cell_type": "code",
   "execution_count": 8,
   "metadata": {},
   "outputs": [
    {
     "name": "stdout",
     "output_type": "stream",
     "text": [
      "iPfal19_v1\n",
      "iPfal19\n"
     ]
    }
   ],
   "source": [
    "print(p_falciparum.id)\n",
    "print(p_falciparum.name)"
   ]
  },
  {
   "cell_type": "markdown",
   "metadata": {},
   "source": [
    "iPfal19 = _**P. fal**ciparum_ reconstruction published in (hopefully) 20**19**"
   ]
  },
  {
   "cell_type": "markdown",
   "metadata": {},
   "source": [
    "### Machine-readable reference to organism and species embedded via MIRIAM annotation"
   ]
  },
  {
   "cell_type": "markdown",
   "metadata": {},
   "source": [
    "We can find good information about a sequenced species at NCBI. _Plasmodium falciparum_ 3D7 is described [here](https://www.ncbi.nlm.nih.gov/genome/33?genome_assembly_id=369845)."
   ]
  },
  {
   "cell_type": "code",
   "execution_count": 9,
   "metadata": {},
   "outputs": [
    {
     "name": "stdout",
     "output_type": "stream",
     "text": [
      "36329\n"
     ]
    }
   ],
   "source": [
    "print(p_falciparum.annotation[\"taxonomy\"])\n",
    "minimal_model.annotation[\"taxonomy\"] = \"36329\""
   ]
  },
  {
   "cell_type": "markdown",
   "metadata": {},
   "source": [
    "This ensures that the reconstruction's taxonomy is annotated. The `annotation` attribute is a Python dictionary whose key-value pairs are automatically converted to MIRIAM compatible URIs. In order for this to work correctly, please first verify the exact spelling of the registry key on [identifiers.org](https://registry.identifiers.org/registry).\n",
    "\n",
    "```xml\n",
    "    <annotation>\n",
    "      <rdf:RDF xmlns:rdf=\"http://www.w3.org/1999/02/22-rdf-syntax-ns#\" xmlns:dcterms=\"http://purl.org/dc/terms/\" xmlns:vCard=\"http://www.w3.org/2001/vcard-rdf/3.0#\" xmlns:vCard4=\"http://www.w3.org/2006/vcard/ns#\" xmlns:bqbiol=\"http://biomodels.net/biology-qualifiers/\" xmlns:bqmodel=\"http://biomodels.net/model-qualifiers/\">\n",
    "        <rdf:Description rdf:about=\"#meta_minimal\">\n",
    "          <bqbiol:is>\n",
    "            <rdf:Bag>\n",
    "              <rdf:li rdf:resource=\"https://identifiers.org/taxonomy/36329\"/>\n",
    "            </rdf:Bag>\n",
    "          </bqbiol:is>\n",
    "        </rdf:Description>\n",
    "      </rdf:RDF>\n",
    "    </annotation>\n",
    "```\n",
    "\n",
    "Important elements here are the description which is about the `model` element due to the `metaid` (compare with section [Model](#Model)).\n",
    "\n",
    "```xml\n",
    "<rdf:Description rdf:about=\"#meta_minimal\">\n",
    "```\n",
    "\n",
    "The next important element is the biological qualifier\n",
    "\n",
    "```xml\n",
    "<bqbiol:is>\n",
    "```\n",
    "\n",
    "you can find out more about its meaning at [combine](https://co.mbine.org/standards/qualifiers) and [BioModels](https://www.ebi.ac.uk/biomodels-main/annotation).\n",
    "\n",
    "Finally, there is one MIRIAM compliant annotation that was generated by cobrapy.\n",
    "\n",
    "```xml\n",
    "<rdf:li rdf:resource=\"https://identifiers.org/taxonomy/36329\"/>\n",
    "```"
   ]
  },
  {
   "cell_type": "markdown",
   "metadata": {},
   "source": [
    "### NCBI reference genome"
   ]
  },
  {
   "cell_type": "markdown",
   "metadata": {},
   "source": [
    "The genome assembly is described [here](https://www.ncbi.nlm.nih.gov/assembly/GCF_000002765.4/)."
   ]
  },
  {
   "cell_type": "markdown",
   "metadata": {},
   "source": [
    "# TODO: It seems to me that identifiers.org does not support GCF identifiers? At least `refseq` registry pattern does not allow `GCF`."
   ]
  },
  {
   "cell_type": "code",
   "execution_count": 10,
   "metadata": {},
   "outputs": [],
   "source": [
    "minimal_model.annotation[\"insdc.gca\"] = \"GCA_000002765.2\""
   ]
  },
  {
   "cell_type": "markdown",
   "metadata": {},
   "source": [
    "Which leads to the following new SBML element:\n",
    "\n",
    "```xml\n",
    "<rdf:li rdf:resource=\"https://identifiers.org/insdc.gca/GCA_000002765.2\"/>\n",
    "```"
   ]
  },
  {
   "cell_type": "code",
   "execution_count": 11,
   "metadata": {},
   "outputs": [
    {
     "name": "stdout",
     "output_type": "stream",
     "text": [
      "Pfalciparum\n"
     ]
    }
   ],
   "source": [
    "print(p_falciparum.annotation[\"genedb\"])\n",
    "minimal_model.annotation[\"genedb\"] = \"Pfalciparum\""
   ]
  },
  {
   "cell_type": "markdown",
   "metadata": {},
   "source": [
    "This generates the following familiar element:\n",
    "\n",
    "```xml\n",
    "<rdf:li rdf:resource=\"https://identifiers.org/genedb/Plasmodium_falciparum_3D7\"/>\n",
    "```"
   ]
  },
  {
   "cell_type": "markdown",
   "metadata": {},
   "source": [
    "### Author(s) contact information embedded"
   ]
  },
  {
   "cell_type": "code",
   "execution_count": 12,
   "metadata": {},
   "outputs": [
    {
     "data": {
      "text/plain": [
       "'Maureen Carey, mac9jc@virginia.edu'"
      ]
     },
     "execution_count": 12,
     "metadata": {},
     "output_type": "execute_result"
    }
   ],
   "source": [
    "#### DISCUSSION POINT: this is recommended, but unsupported by cobrapy (cannot write model)\n",
    "# p_falciparum.annotation[\"authors\"] =  [\n",
    "# {\"familyName\": \"Carey\",\"givenName\": \"Maureen\",\"organisation\": \"University of Virginia\",\"email\": \"mac9jc@virginia.edu\"},\n",
    "# {\"familyName\": \"Untaroiu\",\"givenName\": \"Ana\",\"organisation\": \"University of Virginia\",\"email\": \"amu4pv@virginia.edu\"},\n",
    "# {\"familyName\": \"Plata\",\"givenName\": \"German\",\"organisation\": \"Columbia University\",\"email\": \"gap2118@columbia.edu\"}]\n",
    "\n",
    "p_falciparum.annotation['authors']"
   ]
  },
  {
   "cell_type": "markdown",
   "metadata": {
    "toc-hr-collapsed": false
   },
   "source": [
    "## Metabolite"
   ]
  },
  {
   "cell_type": "markdown",
   "metadata": {},
   "source": [
    "A tangent on the term 'metabolite': In the field of metabolic modeling four different terms are often used without clear distinction. There are compounds, chemicals, metabolites, and species. For the purpose of this document, we say 'metabolite' or 'species' to mean the most representative (most common) [tautomer](https://en.wikipedia.org/wiki/Tautomer) at the given pH. Implicitly, this acknowledges that interconvertible groups of tautomers may participate in a reaction. We will use 'compound' or 'chemical' to mean an exact chemical representation only."
   ]
  },
  {
   "cell_type": "markdown",
   "metadata": {},
   "source": [
    "An excellent resource for metabolites is [MetaNetX](https://www.metanetx.org/). It merges information from several source databases (among them [KEGG](https://www.genome.jp/kegg/), [ChEBI](https://www.ebi.ac.uk/chebi/), [BiGG](http://bigg.ucsd.edu/)) and aims to provide consistent cross references. At the time of writing there is information on around 700 k compounds in MetaNetX."
   ]
  },
  {
   "cell_type": "markdown",
   "metadata": {},
   "source": [
    "For this tutorial, we will look at [1-dodecanoyl-sn-glycerol 3-phosphate](https://www.metanetx.org/chem_info/MNXM4232). On the referenced page you can see that a lot of information that we will need is directly provided for us."
   ]
  },
  {
   "cell_type": "markdown",
   "metadata": {},
   "source": [
    "When creating a metabolite identifier, we should be aware of several conventions. As noted before, every metabolite must be allocated to a compartment. Here, we reference the cytosol by its short identifier `\"c\"`. Since the same metabolite can appear in multiple compartments, it is common practice to add the compartment as a suffix to the identifier of the metabolite. Thus making the identifier unique within the model."
   ]
  },
  {
   "cell_type": "markdown",
   "metadata": {},
   "source": [
    "In principle, a metabolite identifier can be any string that satisfies the SBML constraints (which can be expressed by the following regular expression `[a-zA-Z_][a-zA-Z_0-9]*`). However, many modelers choose BiGG identifiers because they often resemble their common names and are thus easier to reason about quickly. We will use this convention here."
   ]
  },
  {
   "cell_type": "code",
   "execution_count": 13,
   "metadata": {},
   "outputs": [],
   "source": [
    "metabolite = cobra.Metabolite(id=\"1ddecg3p_c\", compartment=\"c\")"
   ]
  },
  {
   "cell_type": "markdown",
   "metadata": {},
   "source": [
    "Please note that the metabolite identifier starts with a digit which is against the SBML specification. Luckily for us, cobrapy uses a general `M_` prefix for all metabolites when writing SBML to prevent these cases. In most cases, this is the right default choice but you may prefer different behavior. In those cases you will have to manually adjust the default replacement functions of `cobra.io.write_sbml_model`."
   ]
  },
  {
   "cell_type": "code",
   "execution_count": 14,
   "metadata": {},
   "outputs": [],
   "source": [
    "minimal_model.add_metabolites([metabolite])"
   ]
  },
  {
   "cell_type": "markdown",
   "metadata": {},
   "source": [
    "When we add the metabolite to the model it produces the following SBML:\n",
    "\n",
    "```xml\n",
    "<species id=\"M_1ddecg3p_c\" compartment=\"c\" hasOnlySubstanceUnits=\"false\" boundaryCondition=\"false\" constant=\"false\"/>\n",
    "```"
   ]
  },
  {
   "cell_type": "markdown",
   "metadata": {},
   "source": [
    "### Human readable, descriptive name"
   ]
  },
  {
   "cell_type": "markdown",
   "metadata": {},
   "source": [
    "The full names are used when displaying more information about a metabolite. This is very helpful when the identifier is rather hard to guess, as is the case for our example, and it will often be the only identifying piece of information that biologists can work with."
   ]
  },
  {
   "cell_type": "code",
   "execution_count": 15,
   "metadata": {},
   "outputs": [],
   "source": [
    "metabolite.name = \"1-dodecanoyl-sn-glycerol 3-phosphate\""
   ]
  },
  {
   "cell_type": "markdown",
   "metadata": {},
   "source": [
    "### Charge"
   ]
  },
  {
   "cell_type": "markdown",
   "metadata": {},
   "source": [
    "The metabolite charge is defined in the SBML package flux-balance constraints (fbc). In most cases the charge should be an integer although the upcoming version 3 of the fbc also allows real numbers for the charge to cover certain edge cases."
   ]
  },
  {
   "cell_type": "code",
   "execution_count": 16,
   "metadata": {},
   "outputs": [],
   "source": [
    "metabolite.charge = -2"
   ]
  },
  {
   "cell_type": "markdown",
   "metadata": {},
   "source": [
    "### Chemical formula"
   ]
  },
  {
   "cell_type": "markdown",
   "metadata": {},
   "source": [
    "The formula is also an fbc extension attribute."
   ]
  },
  {
   "cell_type": "code",
   "execution_count": 17,
   "metadata": {},
   "outputs": [],
   "source": [
    "metabolite.formula = \"C15H29O7P\""
   ]
  },
  {
   "cell_type": "markdown",
   "metadata": {},
   "source": [
    "### InChI strings"
   ]
  },
  {
   "cell_type": "markdown",
   "metadata": {},
   "source": [
    "The [InChI](https://en.wikipedia.org/wiki/International_Chemical_Identifier) is a very information rich, unique description of a compound. In cobrapy we can provide it as an annotation to the metabolite."
   ]
  },
  {
   "cell_type": "code",
   "execution_count": 18,
   "metadata": {},
   "outputs": [],
   "source": [
    "metabolite.annotation[\"inchi\"] = \"InChI=1S/C15H31O7P/c1-2-3-4-5-6-7-8-9-10-11-15(17)21-12-14(16)13-22-23(18,19)20/h14,16H,2-13H2,1H3,(H2,18,19,20)/p-2/t14-/m1/s1\""
   ]
  },
  {
   "cell_type": "markdown",
   "metadata": {},
   "source": [
    "### At least one database identifier from a reliable resource"
   ]
  },
  {
   "cell_type": "markdown",
   "metadata": {},
   "source": [
    "It might seem annoying and boring work but really: the more the merrier. There are tools that can help you automate this process! (They might also introduce subtle mistakes.) More cross references are better because:\n",
    "\n",
    "1. There are no one-to-one mappings of identifiers between identifiers and the more you use the better determined your metabolite is.\n",
    "2. Other users of your model will have data in a myriad of formats. They will thank you deeply, if the identifier namespace of their data already exists in the model."
   ]
  },
  {
   "cell_type": "code",
   "execution_count": 19,
   "metadata": {},
   "outputs": [],
   "source": [
    "metabolite.annotation[\"bigg.metabolite\"] = \"1ddecg3p\"\n",
    "metabolite.annotation[\"chebi\"] = \"CHEBI:62840\"\n",
    "metabolite.annotation[\"hmdb\"] = \"HMDB62319\"\n",
    "metabolite.annotation[\"seed.compound\"] = \"cpd15325\"\n",
    "metabolite.annotation[\"metacyc.compound\"] = \"CPD0-2200\""
   ]
  },
  {
   "cell_type": "markdown",
   "metadata": {},
   "source": [
    "After adding all of this information, the metabolite SBML definition looks like:\n",
    "\n",
    "```xml\n",
    "      <species metaid=\"meta_M_1ddecg3p_c\" id=\"M_1ddecg3p_c\" name=\"1-dodecanoyl-sn-glycerol 3-phosphate\" compartment=\"c\" hasOnlySubstanceUnits=\"false\" boundaryCondition=\"false\" constant=\"false\" fbc:charge=\"-2\" fbc:chemicalFormula=\"C15H29O7P\">\n",
    "        <annotation>\n",
    "          <rdf:RDF xmlns:rdf=\"http://www.w3.org/1999/02/22-rdf-syntax-ns#\" xmlns:dcterms=\"http://purl.org/dc/terms/\" xmlns:vCard=\"http://www.w3.org/2001/vcard-rdf/3.0#\" xmlns:vCard4=\"http://www.w3.org/2006/vcard/ns#\" xmlns:bqbiol=\"http://biomodels.net/biology-qualifiers/\" xmlns:bqmodel=\"http://biomodels.net/model-qualifiers/\">\n",
    "            <rdf:Description rdf:about=\"#meta_M_1ddecg3p_c\">\n",
    "              <bqbiol:is>\n",
    "                <rdf:Bag>\n",
    "                  <rdf:li rdf:resource=\"https://identifiers.org/inchi/InChI=1S/C15H31O7P/c1-2-3-4-5-6-7-8-9-10-11-15(17)21-12-14(16)13-22-23(18,19)20/h14,16H,2-13H2,1H3,(H2,18,19,20)/p-2/t14-/m1/s1\"/>\n",
    "                  <rdf:li rdf:resource=\"https://identifiers.org/bigg.metabolite/1ddecg3p\"/>\n",
    "                  <rdf:li rdf:resource=\"https://identifiers.org/chebi/CHEBI:62840\"/>\n",
    "                  <rdf:li rdf:resource=\"https://identifiers.org/hmdb/HMDB62319\"/>\n",
    "                  <rdf:li rdf:resource=\"https://identifiers.org/seed.compound/cpd15325\"/>\n",
    "                  <rdf:li rdf:resource=\"https://identifiers.org/metacyc.compound/CPD0-2200\"/>\n",
    "                </rdf:Bag>\n",
    "              </bqbiol:is>\n",
    "            </rdf:Description>\n",
    "          </rdf:RDF>\n",
    "        </annotation>\n",
    "      </species>\n",
    "```"
   ]
  },
  {
   "cell_type": "markdown",
   "metadata": {
    "toc-hr-collapsed": false
   },
   "source": [
    "## Biochemical reaction"
   ]
  },
  {
   "cell_type": "markdown",
   "metadata": {},
   "source": [
    "Similarly to metabolites, MetaNetX is a great resource for biochemical reactions. Likewise, the identifiers easiest to interpret for human beings are BiGG symbols. "
   ]
  },
  {
   "cell_type": "markdown",
   "metadata": {},
   "source": [
    "We will use [phosphofructokinase](https://www.metanetx.org/equa_info/MNXR102507) as an example."
   ]
  },
  {
   "cell_type": "code",
   "execution_count": 20,
   "metadata": {},
   "outputs": [],
   "source": [
    "reaction = cobra.Reaction(\"PFK\")"
   ]
  },
  {
   "cell_type": "code",
   "execution_count": 21,
   "metadata": {},
   "outputs": [],
   "source": [
    "minimal_model.add_reactions([reaction])"
   ]
  },
  {
   "cell_type": "markdown",
   "metadata": {},
   "source": [
    "```xml\n",
    "<reaction metaid=\"meta_R_PFK\" id=\"R_PFK\" reversible=\"false\" fast=\"false\" fbc:lowerFluxBound=\"cobra_default_lb\" fbc:upperFluxBound=\"cobra_default_ub\">\n",
    "```"
   ]
  },
  {
   "cell_type": "markdown",
   "metadata": {},
   "source": [
    "As you can see, by default, the reaction identifier is prefixed with `R_`."
   ]
  },
  {
   "cell_type": "markdown",
   "metadata": {},
   "source": [
    "### Human readable, descriptive name"
   ]
  },
  {
   "cell_type": "code",
   "execution_count": 22,
   "metadata": {},
   "outputs": [],
   "source": [
    "reaction.name = \"phosphofructokinase\""
   ]
  },
  {
   "cell_type": "markdown",
   "metadata": {},
   "source": [
    "### Reaction formula"
   ]
  },
  {
   "cell_type": "markdown",
   "metadata": {},
   "source": [
    "We create a few metabolites just for the purpose of this example reaction."
   ]
  },
  {
   "cell_type": "code",
   "execution_count": 23,
   "metadata": {},
   "outputs": [],
   "source": [
    "minimal_model.add_metabolites([\n",
    "    cobra.Metabolite(\"adp_c\", compartment=\"c\"),\n",
    "    cobra.Metabolite(\"h_c\", compartment=\"c\"),\n",
    "    cobra.Metabolite(\"fdp_c\", compartment=\"c\"),\n",
    "    cobra.Metabolite(\"atp_c\", compartment=\"c\"),\n",
    "    cobra.Metabolite(\"f6p_c\", compartment=\"c\"),\n",
    "])"
   ]
  },
  {
   "cell_type": "markdown",
   "metadata": {},
   "source": [
    "`atp_c + f6p_c ⇌ adp_c + fdp_c + h_c`"
   ]
  },
  {
   "cell_type": "code",
   "execution_count": 24,
   "metadata": {},
   "outputs": [],
   "source": [
    "reaction.reaction = \"atp_c + f6p_c <=> adp_c + fdp_c + h_c\""
   ]
  },
  {
   "cell_type": "markdown",
   "metadata": {},
   "source": [
    "### Stoichiometric coefficients"
   ]
  },
  {
   "cell_type": "markdown",
   "metadata": {},
   "source": [
    "### At least one database identifier from a reliable resource"
   ]
  },
  {
   "cell_type": "code",
   "execution_count": 25,
   "metadata": {},
   "outputs": [],
   "source": [
    "reaction.annotation[\"bigg.reaction\"] = \"PFK\"\n",
    "reaction.annotation[\"rhea\"] = [\"16109\", \"16110\", \"16111\", \"16112\"]"
   ]
  },
  {
   "cell_type": "markdown",
   "metadata": {},
   "source": [
    "### EC number"
   ]
  },
  {
   "cell_type": "code",
   "execution_count": 26,
   "metadata": {},
   "outputs": [],
   "source": [
    "reaction.annotation[\"ec-code\"] = \"2.7.1.11\""
   ]
  },
  {
   "cell_type": "markdown",
   "metadata": {},
   "source": [
    "After adding all of this information, the metabolite SBML definition looks like:\n",
    "\n",
    "```xml\n",
    "      <reaction metaid=\"meta_R_PFK\" id=\"R_PFK\" name=\"phosphofructokinase\" reversible=\"true\" fast=\"false\" fbc:lowerFluxBound=\"cobra_default_lb\" fbc:upperFluxBound=\"cobra_default_ub\">\n",
    "        <annotation>\n",
    "          <rdf:RDF xmlns:rdf=\"http://www.w3.org/1999/02/22-rdf-syntax-ns#\" xmlns:dcterms=\"http://purl.org/dc/terms/\" xmlns:vCard=\"http://www.w3.org/2001/vcard-rdf/3.0#\" xmlns:vCard4=\"http://www.w3.org/2006/vcard/ns#\" xmlns:bqbiol=\"http://biomodels.net/biology-qualifiers/\" xmlns:bqmodel=\"http://biomodels.net/model-qualifiers/\">\n",
    "            <rdf:Description rdf:about=\"#meta_R_PFK\">\n",
    "              <bqbiol:is>\n",
    "                <rdf:Bag>\n",
    "                  <rdf:li rdf:resource=\"https://identifiers.org/bigg.reaction/PFK\"/>\n",
    "                  <rdf:li rdf:resource=\"https://identifiers.org/rhea/16109\"/>\n",
    "                  <rdf:li rdf:resource=\"https://identifiers.org/rhea/16110\"/>\n",
    "                  <rdf:li rdf:resource=\"https://identifiers.org/rhea/16111\"/>\n",
    "                  <rdf:li rdf:resource=\"https://identifiers.org/rhea/16112\"/>\n",
    "                  <rdf:li rdf:resource=\"https://identifiers.org/ec-code/2.7.1.11\"/>\n",
    "                </rdf:Bag>\n",
    "              </bqbiol:is>\n",
    "            </rdf:Description>\n",
    "          </rdf:RDF>\n",
    "        </annotation>\n",
    "        <listOfReactants>\n",
    "          <speciesReference species=\"M_atp_c\" stoichiometry=\"1\" constant=\"true\"/>\n",
    "          <speciesReference species=\"M_f6p_c\" stoichiometry=\"1\" constant=\"true\"/>\n",
    "        </listOfReactants>\n",
    "        <listOfProducts>\n",
    "          <speciesReference species=\"M_adp_c\" stoichiometry=\"1\" constant=\"true\"/>\n",
    "          <speciesReference species=\"M_fdp_c\" stoichiometry=\"1\" constant=\"true\"/>\n",
    "          <speciesReference species=\"M_h_c\" stoichiometry=\"1\" constant=\"true\"/>\n",
    "        </listOfProducts>\n",
    "      </reaction>\n",
    "```"
   ]
  },
  {
   "cell_type": "markdown",
   "metadata": {
    "toc-hr-collapsed": false
   },
   "source": [
    "## Gene"
   ]
  },
  {
   "cell_type": "markdown",
   "metadata": {},
   "source": [
    "Gene resources depend a lot on your organism. You may find information on [MetaCyc](https://metacyc.org/), KEGG, NCBI, or more specialized databases. Many automatic reconstruction pipelines will take a genome identifier and include genes for you in the draft model."
   ]
  },
  {
   "cell_type": "markdown",
   "metadata": {},
   "source": [
    "Genes are also defined in the fbc SBML package. The corresponding element is called `geneProduct`. We will use the [gene encoding for PFK](https://www.ncbi.nlm.nih.gov/gene/?term=PF3D7_1128300) as an example."
   ]
  },
  {
   "cell_type": "code",
   "execution_count": 27,
   "metadata": {},
   "outputs": [],
   "source": [
    "gene = cobra.Gene(\"PF3D7_1128300\")"
   ]
  },
  {
   "cell_type": "code",
   "execution_count": 28,
   "metadata": {},
   "outputs": [],
   "source": [
    "minimal_model.genes.append(gene)"
   ]
  },
  {
   "cell_type": "markdown",
   "metadata": {},
   "source": [
    "This leads to the creation of the following SBML element in the `fbc:listOfGeneProducts`:\n",
    "\n",
    "```xml\n",
    "<fbc:geneProduct metaid=\"meta_G_PF3D7_1128300\" fbc:id=\"G_PF3D7_1128300\" fbc:label=\"G_PF3D7_1128300\">\n",
    "```"
   ]
  },
  {
   "cell_type": "markdown",
   "metadata": {},
   "source": [
    "### Name and/or identifier"
   ]
  },
  {
   "cell_type": "code",
   "execution_count": 29,
   "metadata": {},
   "outputs": [],
   "source": [
    "gene.name = \"6-phosphofructokinase\""
   ]
  },
  {
   "cell_type": "markdown",
   "metadata": {},
   "source": [
    "### DNA sequence ID"
   ]
  },
  {
   "cell_type": "code",
   "execution_count": 30,
   "metadata": {},
   "outputs": [],
   "source": [
    "gene.annotation[\"refseq\"] = \"NC_037282.1\"\n",
    "gene.annotation[\"ncbigene\"] = \"810841\""
   ]
  },
  {
   "cell_type": "markdown",
   "metadata": {},
   "source": [
    "### Protein sequence ID"
   ]
  },
  {
   "cell_type": "code",
   "execution_count": 31,
   "metadata": {},
   "outputs": [],
   "source": [
    "gene.annotation[\"ncbiprotein\"] = \"XP_001347965.1\""
   ]
  },
  {
   "cell_type": "markdown",
   "metadata": {},
   "source": [
    "### Position (including chromosome, if applicable)"
   ]
  },
  {
   "cell_type": "code",
   "execution_count": 32,
   "metadata": {},
   "outputs": [],
   "source": [
    "gene.notes[\"Location\"] = \"Chromosome: 11; NC_037282.1 (1098167..1103555, complement)\""
   ]
  },
  {
   "cell_type": "markdown",
   "metadata": {},
   "source": [
    "The full `geneProduct` definition now looks like:\n",
    "\n",
    "```xml\n",
    "      <fbc:geneProduct metaid=\"meta_G_PF3D7_1128300\" fbc:id=\"G_PF3D7_1128300\" fbc:name=\"6-phosphofructokinase\" fbc:label=\"G_PF3D7_1128300\">\n",
    "        <notes>\n",
    "          <html xmlns=\"http://www.w3.org/1999/xhtml\">\n",
    "            <p>Location: Chromosome: 11; NC_037282.1 (1098167..1103555, complement)</p>\n",
    "          </html>\n",
    "        </notes>\n",
    "        <annotation>\n",
    "          <rdf:RDF xmlns:rdf=\"http://www.w3.org/1999/02/22-rdf-syntax-ns#\" xmlns:dcterms=\"http://purl.org/dc/terms/\" xmlns:vCard=\"http://www.w3.org/2001/vcard-rdf/3.0#\" xmlns:vCard4=\"http://www.w3.org/2006/vcard/ns#\" xmlns:bqbiol=\"http://biomodels.net/biology-qualifiers/\" xmlns:bqmodel=\"http://biomodels.net/model-qualifiers/\">\n",
    "            <rdf:Description rdf:about=\"#meta_G_PF3D7_1128300\">\n",
    "              <bqbiol:is>\n",
    "                <rdf:Bag>\n",
    "                  <rdf:li rdf:resource=\"https://identifiers.org/refseq/NC_037282.1\"/>\n",
    "                  <rdf:li rdf:resource=\"https://identifiers.org/ncbigene/810841\"/>\n",
    "                  <rdf:li rdf:resource=\"https://identifiers.org/ncbiprotein/XP_001347965.1\"/>\n",
    "                </rdf:Bag>\n",
    "              </bqbiol:is>\n",
    "            </rdf:Description>\n",
    "          </rdf:RDF>\n",
    "        </annotation>\n",
    "      </fbc:geneProduct>\n",
    "```"
   ]
  },
  {
   "cell_type": "markdown",
   "metadata": {},
   "source": [
    "### Associated reactions (GPR)"
   ]
  },
  {
   "cell_type": "markdown",
   "metadata": {},
   "source": [
    "In cobrapy, the association between gene, protein, and reaction (GPR) is set on the reaction object. This is currently set as a Boolean rule of gene identifiers. We will generate a rule here that encodes two isozymes (two independent proteins that can catalyze the reaction) in order to show a simple Boolean rule."
   ]
  },
  {
   "cell_type": "code",
   "execution_count": 33,
   "metadata": {},
   "outputs": [],
   "source": [
    "reaction.gene_reaction_rule = \"PF3D7_1128300 or PF3D7_0915400\""
   ]
  },
  {
   "cell_type": "code",
   "execution_count": 34,
   "metadata": {},
   "outputs": [
    {
     "data": {
      "text/plain": [
       "frozenset({<Reaction PFK at 0x115155128>})"
      ]
     },
     "execution_count": 34,
     "metadata": {},
     "output_type": "execute_result"
    }
   ],
   "source": [
    "gene.reactions"
   ]
  },
  {
   "cell_type": "markdown",
   "metadata": {},
   "source": [
    "Adding the GPR to the PFK reaction expands its SBML definition by the following:\n",
    "\n",
    "```xml\n",
    "        <fbc:geneProductAssociation>\n",
    "          <fbc:or>\n",
    "            <fbc:geneProductRef fbc:geneProduct=\"G_PF3D7_1128300\"/>\n",
    "            <fbc:geneProductRef fbc:geneProduct=\"G_PF3D7_0915400\"/>\n",
    "          </fbc:or>\n",
    "        </fbc:geneProductAssociation>\n",
    "```"
   ]
  },
  {
   "cell_type": "markdown",
   "metadata": {},
   "source": [
    "## Save Model"
   ]
  },
  {
   "cell_type": "code",
   "execution_count": 35,
   "metadata": {},
   "outputs": [],
   "source": [
    "from cobra.io import write_sbml_model"
   ]
  },
  {
   "cell_type": "code",
   "execution_count": 36,
   "metadata": {},
   "outputs": [],
   "source": [
    "write_sbml_model(minimal_model, \"minimal_model.xml\")"
   ]
  },
  {
   "cell_type": "markdown",
   "metadata": {},
   "source": [
    "You can now inspect the full SBML definition for our minimal model. Generating all the annotations manually required quite a bit of online research in different databases. We would like to emphasize that a good reconstruction tool will provide you with a lot of this information thus saving you a lot of tedious annotation work. However, if you ever get tired of annotating your model, please consider that you doing it once correctly for your reconstruction will provide great value to the countless researchers applying your model in other scenarios."
   ]
  }
 ],
 "metadata": {
  "kernelspec": {
   "display_name": "Python 3",
   "language": "python",
   "name": "python3"
  },
  "language_info": {
   "codemirror_mode": {
    "name": "ipython",
    "version": 3
   },
   "file_extension": ".py",
   "mimetype": "text/x-python",
   "name": "python",
   "nbconvert_exporter": "python",
   "pygments_lexer": "ipython3",
   "version": "3.7.3"
  }
 },
 "nbformat": 4,
 "nbformat_minor": 4
}
